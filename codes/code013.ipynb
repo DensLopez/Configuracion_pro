{
 "cells": [
  {
   "cell_type": "markdown",
   "metadata": {},
   "source": [
    "# Flujo de trabajo de los notebooks"
   ]
  },
  {
   "cell_type": "markdown",
   "metadata": {},
   "source": [
    "Es momento de entender un poco más sobre el flujo de trabajo de los notebooks, recuerda que todo debe estar guardado en la carpeta de notebooks.\n",
    "\n",
    "Así como nosotros usamos funciones para dividir el código y reutilizarlo, también vamos a dividir el notebook. Así pues el objetivo de los notebooks es explorar y producir en algunos casos reportes que serán ejecutables y que puedes compartir, pero el objetivo principal es la experimentación y el prototipado.\n",
    "\n",
    "Así pues nuestra etapa de experimentación se concentra en darle este uso a los notebooks.\n",
    "Una vez se termine la etapa de experimentación habrá muchos cambios y resulta complicado cuando usamos un programa con **control de versiones** porque no será viable al modificar los notebooks, así pues es **muy recomendable en etapa de experimentación**, pero cuando queremos reproducir los resultados nuevamente, tal vez no sea así. \n",
    "\n",
    "Entonces las recomendaciones que vienen a continuación tendrán como objetivo acercarnos a la reproducibilidad de lo que hagamos con nuestro proyecto.\n",
    "\n",
    "### Recomendaciones\n",
    "1. Dividir la carpeta de notebooks: Digamos podríamos crear carpetas dentro de nuestra carpeta **notebooks**:\n",
    "    * reports\n",
    "    * data exploration       \n",
    "Así de esta forma tendremos una mejor estructura dentro de nuestra carpeta de notebooks y además tendremos una mejor legibilidad de nuestro proyecto.\n",
    "2. Usar una convención para nombrar los notebooks: Esto ayuda a evitar la fatiga por elección u orden en nuestro proyecto. **Ejemplo de convención:**       \n",
    "`número - Author name - descripción limitada`\n",
    "\n",
    "Digamos que en mi primer notebook descargo los datos y preproceso, así evito concentrar todo el proceso en uno solo. De manera que cada parte o cada paso de mi proyecto lo realizo en un notebook separado y con ayuda del lenguaje Markdown coloco descripciones sobresalientes sobre cada proceso. Además como titulo del notebook coloco su nombre correspondiente, para que coincida con el formato que hemos establecido. Así todos los demás procesos como; leer, pre-procesar, guardar en un archivo. Así puedo empezar con 0.0, 0.1, 0.2... etc. Así un notebook gigante podríamos dividirlo en 3 o más partes, más fáciles de entender y con un orden de reproducibilidad para guiarnos sobre que va haciendo cada notebook.\n",
    "3. Exportar my notebook como script o como archivo de texto plano. Esto es viable cuando hemos terminado el notebook y la exploración para convertirlo en una implementación."
   ]
  }
 ],
 "metadata": {
  "language_info": {
   "name": "python"
  }
 },
 "nbformat": 4,
 "nbformat_minor": 2
}
